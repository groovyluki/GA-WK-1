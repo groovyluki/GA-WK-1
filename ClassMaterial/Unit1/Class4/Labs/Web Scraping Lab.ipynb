{
 "cells": [
  {
   "cell_type": "markdown",
   "metadata": {},
   "source": [
    "### Web Scraping Lab\n",
    "\n",
    "Welcome!  In today's lab we're going to build a web scraper that's going to build a dataset from restaurant listings on a yelp page.  \n",
    "\n",
    "You can find the web page here: https://www.yelp.com/search?find_desc=Restaurants&find_loc=London%2C%20United%20Kingdom&ns=1\n",
    "\n",
    "The lab questions listed herein will naturally build from the material discussed in class."
   ]
  },
  {
   "cell_type": "markdown",
   "metadata": {},
   "source": [
    "#### Step 1:  Scrape the number of reviews for each restaurant\n",
    "\n",
    "Using a similar methodology we used to find the title of the restaurant find the number of reviews for the 30 restaurants listed on this web page.\n",
    "\n",
    "**Hint:** the `isdigit()` string method will be helpful to detect if a string contains a number."
   ]
  },
  {
   "cell_type": "code",
   "execution_count": 2,
   "metadata": {},
   "outputs": [],
   "source": [
    "# your code here\n",
    "from bs4 import BeautifulSoup\n",
    "import requests\n",
    "url = 'https://www.yelp.com/search?find_desc=Restaurants&find_loc=London%2C%20United%20Kingdom&ns=1'\n",
    "req = requests.get(url)"
   ]
  },
  {
   "cell_type": "code",
   "execution_count": 3,
   "metadata": {},
   "outputs": [],
   "source": [
    "yelp_scraper = BeautifulSoup(req.text)"
   ]
  },
  {
   "cell_type": "code",
   "execution_count": 8,
   "metadata": {},
   "outputs": [],
   "source": [
    "titles = yelp_scraper.find_all('a', {'class': 'lemon--a__373c0__IEZFH', 'class': 'link__373c0__1G70M',\n",
    "                                'class': 'link-color--inherit__373c0__3dzpk',\n",
    "                                'class':  'link-size--inherit__373c0__1VFlE'})"
   ]
  },
  {
   "cell_type": "code",
   "execution_count": 18,
   "metadata": {},
   "outputs": [],
   "source": [
    "#html data is not string, type is tag so we need to convert it before using string functions\n",
    "titles = [str(title) for title in titles]"
   ]
  },
  {
   "cell_type": "code",
   "execution_count": 36,
   "metadata": {},
   "outputs": [],
   "source": [
    "#removing </a> from end of each html tag\n",
    "rest_name = [t.replace('</a>','') for t in titles]"
   ]
  },
  {
   "cell_type": "code",
   "execution_count": 29,
   "metadata": {},
   "outputs": [],
   "source": [
    "rest_names = [t.split('>')[1] for t in rest_name]"
   ]
  },
  {
   "cell_type": "code",
   "execution_count": 35,
   "metadata": {},
   "outputs": [
    {
     "data": {
      "text/plain": [
       "['The Mayfair Chippy',\n",
       " 'Dishoom',\n",
       " 'Flat Iron',\n",
       " 'Restaurant Gordon Ramsay',\n",
       " 'Ffiona’s Restaurant',\n",
       " 'Mother Mash',\n",
       " 'The Queens Arms',\n",
       " 'Padella',\n",
       " 'The Grazing Goat',\n",
       " 'The Golden Chippy',\n",
       " 'BAO - Soho',\n",
       " 'Duck &amp; Waffle',\n",
       " 'Ye Olde Cheshire Cheese',\n",
       " 'Dishoom',\n",
       " 'The Pig and Butcher',\n",
       " 'Sketch',\n",
       " 'NOPI',\n",
       " 'The Churchill Arms',\n",
       " 'Abeno',\n",
       " 'The Victoria',\n",
       " 'The Shed',\n",
       " 'Shoryu Ramen',\n",
       " 'Busaba Soho',\n",
       " 'The Colonel Fawcett',\n",
       " 'Gordon Ramsay Street Pizza',\n",
       " 'Burger &amp; Lobster',\n",
       " 'Hawksmoor Seven Dials',\n",
       " 'Savoir Faire',\n",
       " 'Yauatcha',\n",
       " 'London House by Gordon Ramsay']"
      ]
     },
     "execution_count": 35,
     "metadata": {},
     "output_type": "execute_result"
    }
   ],
   "source": [
    "restaurants = [r for r in rest_names if r != 'more' or '']\n",
    "restaurants = restaurants[:-8]"
   ]
  },
  {
   "cell_type": "code",
   "execution_count": 73,
   "metadata": {},
   "outputs": [],
   "source": [
    "reviews = yelp_scraper.find_all('span', {'class': 'lemon--span__373c0__3997G', \n",
    "                                        'class': 'text__373c0__2Kxyz',\n",
    "                                        'class': 'reviewCount__373c0__2r4xT',\n",
    "                                        'class': 'text-color--black-extra-light__373c0__2OyzO'})"
   ]
  },
  {
   "cell_type": "code",
   "execution_count": 74,
   "metadata": {},
   "outputs": [
    {
     "data": {
      "text/plain": [
       "'<span class=\"lemon--span__373c0__3997G text__373c0__2Kxyz reviewCount__373c0__2r4xT text-color--black-extra-light__373c0__2OyzO text-align--left__373c0__2XGa-\">1842</span>'"
      ]
     },
     "execution_count": 74,
     "metadata": {},
     "output_type": "execute_result"
    }
   ],
   "source": [
    "review = [str(review) for review in reviews]\n",
    "review[3]"
   ]
  },
  {
   "cell_type": "code",
   "execution_count": 75,
   "metadata": {},
   "outputs": [
    {
     "data": {
      "text/plain": [
       "'<span class=\"lemon--span__373c0__3997G text__373c0__2Kxyz reviewCount__373c0__2r4xT text-color--black-extra-light__373c0__2OyzO text-align--left__373c0__2XGa-\">277'"
      ]
     },
     "execution_count": 75,
     "metadata": {},
     "output_type": "execute_result"
    }
   ],
   "source": [
    "review = [r.replace('</span>','') for r in review]\n",
    "review[0]"
   ]
  },
  {
   "cell_type": "code",
   "execution_count": 79,
   "metadata": {},
   "outputs": [
    {
     "data": {
      "text/plain": [
       "'££'"
      ]
     },
     "execution_count": 79,
     "metadata": {},
     "output_type": "execute_result"
    }
   ],
   "source": [
    "review = [r.split('>')[-1] for r in review]"
   ]
  },
  {
   "cell_type": "code",
   "execution_count": 84,
   "metadata": {},
   "outputs": [
    {
     "data": {
      "text/plain": [
       "270"
      ]
     },
     "execution_count": 84,
     "metadata": {},
     "output_type": "execute_result"
    }
   ],
   "source": [
    "review = [int(r) for r in review if r.isdigit() == True]\n",
    "review[4]"
   ]
  },
  {
   "cell_type": "code",
   "execution_count": 85,
   "metadata": {},
   "outputs": [
    {
     "data": {
      "text/plain": [
       "[277,\n",
       " 1842,\n",
       " 378,\n",
       " 204,\n",
       " 270,\n",
       " 468,\n",
       " 119,\n",
       " 202,\n",
       " 239,\n",
       " 108,\n",
       " 183,\n",
       " 701,\n",
       " 353,\n",
       " 544,\n",
       " 109,\n",
       " 830,\n",
       " 271,\n",
       " 358,\n",
       " 101,\n",
       " 212,\n",
       " 78,\n",
       " 375,\n",
       " 381,\n",
       " 26,\n",
       " 30,\n",
       " 292,\n",
       " 342,\n",
       " 194,\n",
       " 482,\n",
       " 22]"
      ]
     },
     "execution_count": 85,
     "metadata": {},
     "output_type": "execute_result"
    }
   ],
   "source": [
    "review"
   ]
  },
  {
   "cell_type": "code",
   "execution_count": 88,
   "metadata": {},
   "outputs": [
    {
     "data": {
      "text/html": [
       "<div>\n",
       "<style scoped>\n",
       "    .dataframe tbody tr th:only-of-type {\n",
       "        vertical-align: middle;\n",
       "    }\n",
       "\n",
       "    .dataframe tbody tr th {\n",
       "        vertical-align: top;\n",
       "    }\n",
       "\n",
       "    .dataframe thead th {\n",
       "        text-align: right;\n",
       "    }\n",
       "</style>\n",
       "<table border=\"1\" class=\"dataframe\">\n",
       "  <thead>\n",
       "    <tr style=\"text-align: right;\">\n",
       "      <th></th>\n",
       "      <th>Name</th>\n",
       "      <th>Reviews</th>\n",
       "    </tr>\n",
       "  </thead>\n",
       "  <tbody>\n",
       "    <tr>\n",
       "      <th>0</th>\n",
       "      <td>The Mayfair Chippy</td>\n",
       "      <td>277</td>\n",
       "    </tr>\n",
       "    <tr>\n",
       "      <th>1</th>\n",
       "      <td>Dishoom</td>\n",
       "      <td>1842</td>\n",
       "    </tr>\n",
       "    <tr>\n",
       "      <th>2</th>\n",
       "      <td>Flat Iron</td>\n",
       "      <td>378</td>\n",
       "    </tr>\n",
       "    <tr>\n",
       "      <th>3</th>\n",
       "      <td>Restaurant Gordon Ramsay</td>\n",
       "      <td>204</td>\n",
       "    </tr>\n",
       "    <tr>\n",
       "      <th>4</th>\n",
       "      <td>Ffiona’s Restaurant</td>\n",
       "      <td>270</td>\n",
       "    </tr>\n",
       "    <tr>\n",
       "      <th>5</th>\n",
       "      <td>Mother Mash</td>\n",
       "      <td>468</td>\n",
       "    </tr>\n",
       "    <tr>\n",
       "      <th>6</th>\n",
       "      <td>The Queens Arms</td>\n",
       "      <td>119</td>\n",
       "    </tr>\n",
       "    <tr>\n",
       "      <th>7</th>\n",
       "      <td>Padella</td>\n",
       "      <td>202</td>\n",
       "    </tr>\n",
       "    <tr>\n",
       "      <th>8</th>\n",
       "      <td>The Grazing Goat</td>\n",
       "      <td>239</td>\n",
       "    </tr>\n",
       "    <tr>\n",
       "      <th>9</th>\n",
       "      <td>The Golden Chippy</td>\n",
       "      <td>108</td>\n",
       "    </tr>\n",
       "    <tr>\n",
       "      <th>10</th>\n",
       "      <td>BAO - Soho</td>\n",
       "      <td>183</td>\n",
       "    </tr>\n",
       "    <tr>\n",
       "      <th>11</th>\n",
       "      <td>Duck &amp;amp; Waffle</td>\n",
       "      <td>701</td>\n",
       "    </tr>\n",
       "    <tr>\n",
       "      <th>12</th>\n",
       "      <td>Ye Olde Cheshire Cheese</td>\n",
       "      <td>353</td>\n",
       "    </tr>\n",
       "    <tr>\n",
       "      <th>13</th>\n",
       "      <td>Dishoom</td>\n",
       "      <td>544</td>\n",
       "    </tr>\n",
       "    <tr>\n",
       "      <th>14</th>\n",
       "      <td>The Pig and Butcher</td>\n",
       "      <td>109</td>\n",
       "    </tr>\n",
       "    <tr>\n",
       "      <th>15</th>\n",
       "      <td>Sketch</td>\n",
       "      <td>830</td>\n",
       "    </tr>\n",
       "    <tr>\n",
       "      <th>16</th>\n",
       "      <td>NOPI</td>\n",
       "      <td>271</td>\n",
       "    </tr>\n",
       "    <tr>\n",
       "      <th>17</th>\n",
       "      <td>The Churchill Arms</td>\n",
       "      <td>358</td>\n",
       "    </tr>\n",
       "    <tr>\n",
       "      <th>18</th>\n",
       "      <td>Abeno</td>\n",
       "      <td>101</td>\n",
       "    </tr>\n",
       "    <tr>\n",
       "      <th>19</th>\n",
       "      <td>The Victoria</td>\n",
       "      <td>212</td>\n",
       "    </tr>\n",
       "    <tr>\n",
       "      <th>20</th>\n",
       "      <td>The Shed</td>\n",
       "      <td>78</td>\n",
       "    </tr>\n",
       "    <tr>\n",
       "      <th>21</th>\n",
       "      <td>Shoryu Ramen</td>\n",
       "      <td>375</td>\n",
       "    </tr>\n",
       "    <tr>\n",
       "      <th>22</th>\n",
       "      <td>Busaba Soho</td>\n",
       "      <td>381</td>\n",
       "    </tr>\n",
       "    <tr>\n",
       "      <th>23</th>\n",
       "      <td>The Colonel Fawcett</td>\n",
       "      <td>26</td>\n",
       "    </tr>\n",
       "    <tr>\n",
       "      <th>24</th>\n",
       "      <td>Gordon Ramsay Street Pizza</td>\n",
       "      <td>30</td>\n",
       "    </tr>\n",
       "    <tr>\n",
       "      <th>25</th>\n",
       "      <td>Burger &amp;amp; Lobster</td>\n",
       "      <td>292</td>\n",
       "    </tr>\n",
       "    <tr>\n",
       "      <th>26</th>\n",
       "      <td>Hawksmoor Seven Dials</td>\n",
       "      <td>342</td>\n",
       "    </tr>\n",
       "    <tr>\n",
       "      <th>27</th>\n",
       "      <td>Savoir Faire</td>\n",
       "      <td>194</td>\n",
       "    </tr>\n",
       "    <tr>\n",
       "      <th>28</th>\n",
       "      <td>Yauatcha</td>\n",
       "      <td>482</td>\n",
       "    </tr>\n",
       "    <tr>\n",
       "      <th>29</th>\n",
       "      <td>London House by Gordon Ramsay</td>\n",
       "      <td>22</td>\n",
       "    </tr>\n",
       "  </tbody>\n",
       "</table>\n",
       "</div>"
      ],
      "text/plain": [
       "                             Name  Reviews\n",
       "0              The Mayfair Chippy      277\n",
       "1                         Dishoom     1842\n",
       "2                       Flat Iron      378\n",
       "3        Restaurant Gordon Ramsay      204\n",
       "4             Ffiona’s Restaurant      270\n",
       "5                     Mother Mash      468\n",
       "6                 The Queens Arms      119\n",
       "7                         Padella      202\n",
       "8                The Grazing Goat      239\n",
       "9               The Golden Chippy      108\n",
       "10                     BAO - Soho      183\n",
       "11              Duck &amp; Waffle      701\n",
       "12        Ye Olde Cheshire Cheese      353\n",
       "13                        Dishoom      544\n",
       "14            The Pig and Butcher      109\n",
       "15                         Sketch      830\n",
       "16                           NOPI      271\n",
       "17             The Churchill Arms      358\n",
       "18                          Abeno      101\n",
       "19                   The Victoria      212\n",
       "20                       The Shed       78\n",
       "21                   Shoryu Ramen      375\n",
       "22                    Busaba Soho      381\n",
       "23            The Colonel Fawcett       26\n",
       "24     Gordon Ramsay Street Pizza       30\n",
       "25           Burger &amp; Lobster      292\n",
       "26          Hawksmoor Seven Dials      342\n",
       "27                   Savoir Faire      194\n",
       "28                       Yauatcha      482\n",
       "29  London House by Gordon Ramsay       22"
      ]
     },
     "execution_count": 88,
     "metadata": {},
     "output_type": "execute_result"
    }
   ],
   "source": [
    "import pandas as pd\n",
    "restaurant_dictionary = {\n",
    "    \n",
    "    'Name' : restaurants,\n",
    "    'Reviews' : review\n",
    "    \n",
    "}\n",
    "\n",
    "restaurant_df = pd.DataFrame(restaurant_dictionary)\n",
    "restaurant_df"
   ]
  },
  {
   "cell_type": "markdown",
   "metadata": {},
   "source": [
    "#### Step 2:  Find the price range for each restaurant\n",
    "\n",
    "Let's create data for the price range of each restaurant as well, as denoted by the $ \\unicode{x00A3} $ symbol listed on each website.\n",
    "\n",
    "**Hint 1:** The information that you need for this was selected using the same criteria to find the number of reviews.\n",
    "\n",
    "**Hint 2:** You type the $ \\unicode{x00A3} $ symbol in python with the expression `\\xA3`"
   ]
  },
  {
   "cell_type": "code",
   "execution_count": null,
   "metadata": {},
   "outputs": [],
   "source": [
    "# your code here"
   ]
  },
  {
   "cell_type": "markdown",
   "metadata": {},
   "source": [
    "#### Step 3:  Build a Dataframe For the Title, # of Ratings and Price Range of Each Restaurant\n",
    "\n",
    "You will need to create a dictionary structured in the following way:\n",
    "\n",
    "` {\n",
    "    'Title': [list with the titles of each restaurant],\n",
    "    'NumRatings': [list with the number of ratings of each restaurant],\n",
    "    'Price Range': [list with the price range of each restaurant]\n",
    "}`"
   ]
  },
  {
   "cell_type": "code",
   "execution_count": null,
   "metadata": {},
   "outputs": [],
   "source": [
    "# your code here"
   ]
  }
 ],
 "metadata": {
  "kernelspec": {
   "display_name": "Python 3",
   "language": "python",
   "name": "python3"
  },
  "language_info": {
   "codemirror_mode": {
    "name": "ipython",
    "version": 3
   },
   "file_extension": ".py",
   "mimetype": "text/x-python",
   "name": "python",
   "nbconvert_exporter": "python",
   "pygments_lexer": "ipython3",
   "version": "3.7.6"
  }
 },
 "nbformat": 4,
 "nbformat_minor": 4
}
