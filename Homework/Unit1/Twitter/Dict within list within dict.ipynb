{
 "cells": [
  {
   "cell_type": "code",
   "execution_count": 56,
   "metadata": {},
   "outputs": [
    {
     "data": {
      "text/plain": [
       "[1292055415136583681, 1292055415136583685]"
      ]
     },
     "execution_count": 56,
     "metadata": {},
     "output_type": "execute_result"
    }
   ],
   "source": [
    "#the below blob comes from an API call but I don't want to time out my API requests, so I've extracted part of it\n",
    "# and created a dict variable 'blob'. I'm trying to get my function to return a list of unique id's from the blob\n",
    "#below, but I can't access the dict within the list, within the dict. See lines 31, 32 for my progress so far. \n",
    "import pandas as pd\n",
    "blob = [{'users': [{'id': 1292055415136583681,\n",
    "   'id_str': '1292055415136583681',\n",
    "   'name': 'Mayola Tyler',\n",
    "   'screen_name': 'tyler_mayola',\n",
    "   'location': '',\n",
    "   'description': 'Total explorer. Hipster-friendly entrepreneur. Amateur analyst. Troublemaker. Internet ninja.',\n",
    "   'url': None,\n",
    "   'entities': {'description': {'urls': []}},\n",
    "   'protected': False},\n",
    "    \n",
    "    {'id': 1292055415136583685,\n",
    "   'id_str': '1292055415136583681',\n",
    "   'name': 'Mayola Tyler',\n",
    "   'screen_name': 'tyler_mayola',\n",
    "   'location': '',\n",
    "   'description': 'Total explorer. Hipster-friendly entrepreneur. Amateur analyst. Troublemaker. Internet ninja.',\n",
    "   'url': None,\n",
    "   'entities': {'description': {'urls': []}},\n",
    "   'protected': False}]\n",
    "       }]\n",
    "          \n",
    "def friends_of_friends(name1, name2, keys=None, to_df=False):\n",
    "    \n",
    "    names = [name1, name2]\n",
    "    name_list = [name.replace('@','') for name in names]\n",
    "    \n",
    "#     for item in blob['users']:\n",
    "#         return item['id']\n",
    "    followers = [i['users'] for i in blob]\n",
    "#     return followers\n",
    "    flat_list = []\n",
    "    for sublist in followers:\n",
    "        results = [sublist['id'] for sublist in sublist]\n",
    "        return results\n",
    "#         for item in sublist:\n",
    "#             flat_list.append(item)\n",
    "#             return flat_list\n",
    "        \n",
    "#             results = [item['id'] for item in blob['users']]\n",
    "#             return results\n",
    "\n",
    "friends_of_friends('Beyonce', 'MariahCarey')"
   ]
  },
  {
   "cell_type": "code",
   "execution_count": null,
   "metadata": {},
   "outputs": [],
   "source": []
  }
 ],
 "metadata": {
  "kernelspec": {
   "display_name": "Python 3",
   "language": "python",
   "name": "python3"
  },
  "language_info": {
   "codemirror_mode": {
    "name": "ipython",
    "version": 3
   },
   "file_extension": ".py",
   "mimetype": "text/x-python",
   "name": "python",
   "nbconvert_exporter": "python",
   "pygments_lexer": "ipython3",
   "version": "3.7.6"
  }
 },
 "nbformat": 4,
 "nbformat_minor": 4
}
